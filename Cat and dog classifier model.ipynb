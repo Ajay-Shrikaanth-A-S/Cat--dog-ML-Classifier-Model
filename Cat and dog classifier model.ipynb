{
 "cells": [
  {
   "cell_type": "code",
   "execution_count": null,
   "id": "76a34146",
   "metadata": {
    "vscode": {
     "languageId": "plaintext"
    }
   },
   "outputs": [],
   "source": [
    "import tensorflow as tf\n",
    "import matplotlib.pyplot as plt\n",
    "import numpy as np\n",
    "import random\n",
    "from tensorflow.keras.models import Sequential\n",
    "from tensorflow.keras.layers import Conv2D, MaxPooling2D, Dense, Flatten\n",
    "\n",
    "# Print library versions to verify imports\n",
    "print(\"TensorFlow Version:\", tf.__version__)\n",
    "print(\"Matplotlib imported successfully!\")\n",
    "\n",
    "# Load dataset\n",
    "X_train = np.loadtxt('Documents/Dataset/input.csv', delimiter=',')\n",
    "Y_train = np.loadtxt('Documents/Dataset/labels.csv', delimiter=',')\n",
    "X_test = np.loadtxt('Documents/Dataset/input_test.csv', delimiter=',')\n",
    "Y_test = np.loadtxt('Documents/Dataset/labels_test.csv', delimiter=',')\n",
    "\n",
    "# Reshape and normalize the dataset\n",
    "X_train = X_train.reshape(len(X_train), 100, 100, 3) / 255.0\n",
    "X_test = X_test.reshape(len(X_test), 100, 100, 3) / 255.0\n",
    "Y_train = Y_train.reshape(len(Y_train), 1)\n",
    "Y_test = Y_test.reshape(len(Y_test), 1)\n",
    "\n",
    "# Print dataset shapes\n",
    "print(\"Shape of X_train: \", X_train.shape)\n",
    "print(\"Shape of Y_train: \", Y_train.shape)\n",
    "print(\"Shape of X_test: \", X_test.shape)\n",
    "print(\"Shape of Y_test: \", Y_test.shape)\n",
    "\n",
    "# Display a random training image\n",
    "idx = random.randint(0, len(X_train))\n",
    "plt.imshow(X_train[idx])\n",
    "plt.title(\"Random Training Image\")\n",
    "plt.show()\n",
    "\n",
    "# Define the CNN model\n",
    "model = Sequential([\n",
    "    Conv2D(32, (3, 3), activation='relu', input_shape=(100, 100, 3)),\n",
    "    MaxPooling2D((2, 2)),\n",
    "    Conv2D(32, (3, 3), activation='relu'),\n",
    "    MaxPooling2D((2, 2)),\n",
    "    Flatten(),\n",
    "    Dense(64, activation='relu'),\n",
    "    Dense(1, activation='sigmoid')\n",
    "])\n",
    "\n",
    "# Compile the model\n",
    "model.compile(\n",
    "    loss='binary_crossentropy',\n",
    "    optimizer='adam',\n",
    "    metrics=['accuracy']\n",
    ")\n",
    "\n",
    "# Train the model\n",
    "model.fit(X_train, Y_train, epochs=5, batch_size=64)\n",
    "\n",
    "# Evaluate the model\n",
    "model.evaluate(X_test, Y_test)\n",
    "\n",
    "# Display a random test image and predict\n",
    "idx2 = random.randint(0, len(Y_test))\n",
    "plt.imshow(X_test[idx2])\n",
    "plt.title(\"Random Test Image\")\n",
    "plt.show()\n",
    "\n",
    "y_pred = model.predict(X_test[idx2].reshape(1, 100, 100, 3))\n",
    "y_pred = y_pred > 0.5\n",
    "\n",
    "# Interpret the prediction\n",
    "pred = 'dog' if y_pred == 0 else 'cat'\n",
    "print(\"Our model predicts it to be a\", pred)\n"
   ]
  }
 ],
 "metadata": {
  "kernelspec": {
   "display_name": "Python 3 (ipykernel)",
   "language": "python",
   "name": "python3"
  },
  "language_info": {
   "codemirror_mode": {
    "name": "ipython",
    "version": 3
   },
   "file_extension": ".py",
   "mimetype": "text/x-python",
   "name": "python",
   "nbconvert_exporter": "python",
   "pygments_lexer": "ipython3",
   "version": "3.8.19"
  }
 },
 "nbformat": 4,
 "nbformat_minor": 5
}
